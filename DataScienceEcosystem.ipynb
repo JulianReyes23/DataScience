{
 "cells": [
  {
   "cell_type": "markdown",
   "id": "c4a4fd39-f82c-420d-ab58-bbada9784909",
   "metadata": {},
   "source": [
    "# Data Science Tools and Ecosystem\n"
   ]
  },
  {
   "cell_type": "markdown",
   "id": "f4e9c158-7de6-4ddb-bc7c-ac8139e6f72f",
   "metadata": {},
   "source": [
    "In this notebook, Data Science Tools and Ecosystem are summarized."
   ]
  },
  {
   "cell_type": "markdown",
   "id": "724da2d9-0ad8-49af-94c7-164f76542bf6",
   "metadata": {},
   "source": [
    "## Author\n",
    "Julian Reyes"
   ]
  },
  {
   "cell_type": "markdown",
   "id": "a68d61a4-19c0-4153-96be-997f588aeafb",
   "metadata": {},
   "source": [
    "**Objectives:**\n",
    "\n",
    "- List popular languages for Data Science\n",
    "- Identify commonly used libraries for Data Science\n",
    "- Explore various development environments and tools in Data Science\n",
    "- Evaluate arithmetic expressions in Python\n",
    "- Understand basic operations and syntax in Jupyter Notebook\n"
   ]
  },
  {
   "cell_type": "markdown",
   "id": "8196e869-b7cf-4d67-8df8-03e9ae05f6ed",
   "metadata": {},
   "source": [
    "Some of the popular languages that Data Scientists use are:"
   ]
  },
  {
   "cell_type": "markdown",
   "id": "d9c96c0a-fe1e-416a-a843-bdb9af1f69de",
   "metadata": {},
   "source": [
    "1. Python\n",
    "2. R\n",
    "3. SQL\n",
    "4. Julia"
   ]
  },
  {
   "cell_type": "markdown",
   "id": "e3927049-59b9-4a9a-87fd-3dd33355b339",
   "metadata": {},
   "source": [
    "Some of the commonly used libraries used by Data Scientists include:"
   ]
  },
  {
   "cell_type": "markdown",
   "id": "04ec75ef-4bfe-4db5-b431-73cd11eb2ef7",
   "metadata": {},
   "source": [
    "1. Pandas\n",
    "2. Numpy\n",
    "3. Scikit Learn\n",
    "4. Pytorch\n",
    "5. Matplotlib\n",
    "6. Seaborn"
   ]
  },
  {
   "cell_type": "markdown",
   "id": "9ec04e0a-b8b0-48c4-b5ea-93dcf24e93da",
   "metadata": {},
   "source": [
    "| Data Science Tools         |\n",
    "|----------------------------|\n",
    "| Jupyter Notebook           |\n",
    "| RStudio                    |\n",
    "| Apache Zeppelin            |\n"
   ]
  },
  {
   "cell_type": "markdown",
   "id": "5f35f89a-92d9-435d-9f3b-94436a0147ea",
   "metadata": {},
   "source": [
    "### Below are a few examples of evaluating arithmetic expressions in Python"
   ]
  },
  {
   "cell_type": "code",
   "execution_count": 2,
   "id": "be2f2dcb-ea1b-499e-8f74-2761e9a883ca",
   "metadata": {},
   "outputs": [
    {
     "name": "stdout",
     "output_type": "stream",
     "text": [
      "8\n"
     ]
    }
   ],
   "source": [
    "result = 5 + 3\n",
    "print(result)  # OUT: 8\n"
   ]
  },
  {
   "cell_type": "code",
   "execution_count": 3,
   "id": "2dd6a339-950c-42bc-b916-79ceb0060e0a",
   "metadata": {},
   "outputs": [
    {
     "name": "stdout",
     "output_type": "stream",
     "text": [
      "6\n"
     ]
    }
   ],
   "source": [
    "result = 10 - 4\n",
    "print(result)  # OUT: 6\n"
   ]
  },
  {
   "cell_type": "code",
   "execution_count": 4,
   "id": "b51b5c87-6c77-4ecf-a912-dd138fddbe1b",
   "metadata": {},
   "outputs": [
    {
     "name": "stdout",
     "output_type": "stream",
     "text": [
      "8\n"
     ]
    }
   ],
   "source": [
    "result = 2 ** 3\n",
    "print(result)  # OUT: 8\n"
   ]
  },
  {
   "cell_type": "code",
   "execution_count": 5,
   "id": "c1617178-8dc1-4ec9-afb7-3382117d9044",
   "metadata": {},
   "outputs": [
    {
     "data": {
      "text/plain": [
       "17"
      ]
     },
     "execution_count": 5,
     "metadata": {},
     "output_type": "execute_result"
    }
   ],
   "source": [
    "#This a simple arithmetic expression to mutiply then add integers\n",
    "(3*4)+5"
   ]
  },
  {
   "cell_type": "code",
   "execution_count": 6,
   "id": "e5c8f71d-15bc-4f3f-a04d-03e534a27dc2",
   "metadata": {},
   "outputs": [
    {
     "data": {
      "text/plain": [
       "3.3333333333333335"
      ]
     },
     "execution_count": 6,
     "metadata": {},
     "output_type": "execute_result"
    }
   ],
   "source": [
    "#This will convert 200 minutes to hours by diving by 60\n",
    "200/60"
   ]
  },
  {
   "cell_type": "code",
   "execution_count": null,
   "id": "a99046bf-66ef-4b17-9836-d9eeb9cd06b7",
   "metadata": {},
   "outputs": [],
   "source": []
  }
 ],
 "metadata": {
  "kernelspec": {
   "display_name": "Python 3 (ipykernel)",
   "language": "python",
   "name": "python3"
  },
  "language_info": {
   "codemirror_mode": {
    "name": "ipython",
    "version": 3
   },
   "file_extension": ".py",
   "mimetype": "text/x-python",
   "name": "python",
   "nbconvert_exporter": "python",
   "pygments_lexer": "ipython3",
   "version": "3.12.2"
  }
 },
 "nbformat": 4,
 "nbformat_minor": 5
}
